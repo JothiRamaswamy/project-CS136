{
 "cells": [
  {
   "cell_type": "code",
   "execution_count": 1,
   "id": "3fbb2891",
   "metadata": {},
   "outputs": [],
   "source": [
    "import pandas as pd\n",
    "import numpy as np\n",
    "import os\n",
    "import random\n",
    "from itertools import permutations\n",
    "from copy import copy"
   ]
  },
  {
   "cell_type": "code",
   "execution_count": 2,
   "id": "b414e7dd",
   "metadata": {},
   "outputs": [],
   "source": [
    "def generate_ranks(number):\n",
    "\n",
    "    electability = list(range(1, number+1))\n",
    "#     random.shuffle(electability)\n",
    "    for i in range(len(electability)):\n",
    "        electability[i] = 1/(electability[i]**2)\n",
    "        \n",
    "    print('electability', electability, [x+1 for x in np.argsort(electability)])\n",
    "    \n",
    "    general_fav = [random.random() for i in electability]\n",
    "\n",
    "    proportion = 0.5\n",
    "    truthful = []\n",
    "    deviation = []\n",
    "    for i in range(10000):\n",
    "        favorability = [random.random()*general_fav[i] for i in range(len(electability))]\n",
    "        truthful.append([x + 1 for x in np.argsort(favorability)][::-1])\n",
    "        if random.random() < proportion:\n",
    "            rank = [favorability[i]*electability[i] for i in range(number)]\n",
    "            deviation.append([x + 1 for x in np.argsort(rank)][::-1])\n",
    "        else:\n",
    "            deviation.append([x + 1 for x in np.argsort(favorability)][::-1])\n",
    "    return [truthful, deviation]"
   ]
  },
  {
   "cell_type": "code",
   "execution_count": 3,
   "id": "10e0678d",
   "metadata": {},
   "outputs": [],
   "source": [
    "class Borda:\n",
    "\n",
    "    def __init__(self, candidates, vote_count, preferences, pref_type):\n",
    "        self.candidates = candidates\n",
    "        self.vote_count = vote_count\n",
    "        self.preferences = preferences\n",
    "        self.pref_type = pref_type\n",
    "\n",
    "    def determine_winner(self):\n",
    "        vote_tally = [0] * len(self.candidates)\n",
    "        preferences = self.preferences.copy()\n",
    "        for p in range(len(preferences)):\n",
    "            for i in range(len(preferences[p])):\n",
    "                try:\n",
    "                    vote_tally[preferences[p][i]-1] += float(1/(1+i))\n",
    "                except:\n",
    "                    print(preferences[p][i])\n",
    "\n",
    "        idx = vote_tally.index(max(vote_tally))\n",
    "        return self.candidates[idx+1]"
   ]
  },
  {
   "cell_type": "code",
   "execution_count": 4,
   "id": "904f2a50",
   "metadata": {},
   "outputs": [],
   "source": [
    "class RankedChoice:\n",
    "\n",
    "    def __init__(self, candidates, vote_count, preferences, pref_type):\n",
    "        self.candidates = candidates\n",
    "        self.vote_count = vote_count\n",
    "        self.preferences = preferences\n",
    "        self.pref_type = pref_type\n",
    "\n",
    "    def determine_winner(self):\n",
    "        vote_tally = [0] * len(self.candidates)\n",
    "        candidates_left = list(self.candidates.keys())\n",
    "        prefs = []\n",
    "        for i in self.preferences:\n",
    "            temp = []\n",
    "            for j in i:\n",
    "                temp.append(j)\n",
    "            prefs.append(temp)\n",
    "        while True:\n",
    "            for p in range(len(prefs)):\n",
    "                if len(prefs[p]) == 0:\n",
    "                    continue\n",
    "                try:\n",
    "                    while prefs[p][0] not in candidates_left:\n",
    "                        prefs[p].pop(0)\n",
    "                        if len(prefs[p]) == 0:\n",
    "                            continue\n",
    "                except:\n",
    "                    continue\n",
    "                idx = candidates_left.index(prefs[p][0])\n",
    "                vote_tally[idx]+=1\n",
    "                \n",
    "            if max(vote_tally) == min(vote_tally):\n",
    "                return \"Tie\"\n",
    "            elif max(vote_tally) > sum(vote_tally)/2:\n",
    "                idx = vote_tally.index(max(vote_tally))\n",
    "                winner_idx = candidates_left[idx]\n",
    "                return self.candidates[winner_idx]\n",
    "            else:\n",
    "                idx = vote_tally.index(min(vote_tally))\n",
    "                candidates_left.pop(idx)\n",
    "                vote_tally = [0] * len(candidates_left)\n"
   ]
  },
  {
   "cell_type": "code",
   "execution_count": 5,
   "id": "a97f10a9",
   "metadata": {},
   "outputs": [],
   "source": [
    "class Plurality:\n",
    "\n",
    "    def __init__(self, candidates, vote_count, preferences, pref_type):\n",
    "        self.candidates = candidates\n",
    "        self.vote_count = vote_count\n",
    "        self.preferences = preferences\n",
    "        self.pref_type = pref_type\n",
    "\n",
    "    def determine_winner(self):\n",
    "        vote_tally = [0] * len(self.candidates)\n",
    "        preferences = self.preferences.copy()\n",
    "        for p in range(len(preferences)):\n",
    "            try:\n",
    "                vote_tally[preferences[p][0]-1] += 1\n",
    "            except:\n",
    "                continue\n",
    "\n",
    "        idx = vote_tally.index(max(vote_tally))\n",
    "        return self.candidates[idx+1]"
   ]
  },
  {
   "cell_type": "code",
   "execution_count": 6,
   "id": "bf865fcf",
   "metadata": {},
   "outputs": [],
   "source": [
    "class TwoRound:\n",
    "\n",
    "    def __init__(self, candidates, vote_count, preferences, pref_type):\n",
    "        self.candidates = candidates\n",
    "        self.vote_count = vote_count\n",
    "        self.preferences = preferences\n",
    "        self.pref_type = pref_type\n",
    "\n",
    "    def determine_winner(self):\n",
    "        vote_tally = [0] * len(self.candidates)\n",
    "        preferences = self.preferences.copy()\n",
    "        for p in range(len(preferences)):\n",
    "            try:\n",
    "                vote_tally[preferences[p][0]-1] += 1\n",
    "            except:\n",
    "                continue\n",
    "\n",
    "        if max(vote_tally) > sum(vote_tally):\n",
    "            idx = vote_tally.index(max(vote_tally))\n",
    "            return self.candidates[idx]\n",
    "\n",
    "        rank_order = list(np.argsort(vote_tally))[-2:]\n",
    "        final_tally = [0,0]\n",
    "\n",
    "        for p in range(len(preferences)):\n",
    "            for i in range(len(preferences[p])):\n",
    "                if preferences[p][i] in rank_order:\n",
    "                    idx = rank_order.index(preferences[p][i])\n",
    "                    final_tally[idx] += 1\n",
    "                    continue\n",
    "        if final_tally[0] > final_tally[1]:\n",
    "            return self.candidates[rank_order[0]+1]\n",
    "        elif final_tally[0] < final_tally[1]:\n",
    "            return self.candidates[rank_order[1]+1]\n",
    "        return \"Tie\""
   ]
  },
  {
   "cell_type": "code",
   "execution_count": 7,
   "id": "c3468cad",
   "metadata": {},
   "outputs": [],
   "source": [
    "candidate3 = {1: 'SpongeBob SquarePants',\n",
    " 2: 'Patrick Star',\n",
    " 3: 'Squidward Tentacles'}"
   ]
  },
  {
   "cell_type": "code",
   "execution_count": 8,
   "id": "a4e3d30a",
   "metadata": {},
   "outputs": [],
   "source": [
    "candidate5 = {1: 'SpongeBob SquarePants',\n",
    " 2: 'Patrick Star',\n",
    " 3: 'Squidward Tentacles',\n",
    " 4: 'Mr. Krabs',\n",
    " 5: 'Plankton'}"
   ]
  },
  {
   "cell_type": "code",
   "execution_count": 9,
   "id": "c867312d",
   "metadata": {},
   "outputs": [],
   "source": [
    "candidate10 = {1: 'SpongeBob SquarePants',\n",
    " 2: 'Patrick Star',\n",
    " 3: 'Squidward Tentacles',\n",
    " 4: 'Mr. Krabs',\n",
    " 5: 'Plankton',\n",
    " 6: 'Sandy Cheeks',\n",
    " 7: 'Gary',\n",
    " 8: 'Larry the Lobster',\n",
    " 9: 'Pearl',\n",
    " 10: 'Mrs. Puff'}"
   ]
  },
  {
   "cell_type": "code",
   "execution_count": 10,
   "id": "56e6f5be",
   "metadata": {},
   "outputs": [],
   "source": [
    "def calculate_stats(winner, truthful):\n",
    "    total = 0\n",
    "    count = 0\n",
    "    last_count = 0\n",
    "    first_count = 0\n",
    "    for i in truthful:\n",
    "        if winner in i:\n",
    "            count += 1\n",
    "            rank = i.index(winner) + 1\n",
    "            total += rank\n",
    "            if rank == len(i):\n",
    "                last_count += 1\n",
    "            if rank == 1:\n",
    "                first_count += 1\n",
    "    avg = float(total)/count\n",
    "    last_prop = float(last_count)/len(truthful)\n",
    "    first_prop = float(first_count)/len(truthful)\n",
    "    return [avg, last_prop, first_prop]"
   ]
  },
  {
   "cell_type": "code",
   "execution_count": 11,
   "id": "4f3f01d0",
   "metadata": {},
   "outputs": [
    {
     "name": "stdout",
     "output_type": "stream",
     "text": [
      "electability [1.0, 0.25, 0.1111111111111111] [3, 2, 1]\n"
     ]
    }
   ],
   "source": [
    "truthful3, deviation3 = generate_ranks(3)"
   ]
  },
  {
   "cell_type": "code",
   "execution_count": 12,
   "id": "9e9eb0bc",
   "metadata": {},
   "outputs": [
    {
     "name": "stdout",
     "output_type": "stream",
     "text": [
      "electability [1.0, 0.25, 0.1111111111111111, 0.0625, 0.04] [5, 4, 3, 2, 1]\n"
     ]
    }
   ],
   "source": [
    "truthful5, deviation5 = generate_ranks(5)"
   ]
  },
  {
   "cell_type": "code",
   "execution_count": 13,
   "id": "2979ff33",
   "metadata": {},
   "outputs": [
    {
     "name": "stdout",
     "output_type": "stream",
     "text": [
      "electability [1.0, 0.25, 0.1111111111111111, 0.0625, 0.04, 0.027777777777777776, 0.02040816326530612, 0.015625, 0.012345679012345678, 0.01] [10, 9, 8, 7, 6, 5, 4, 3, 2, 1]\n"
     ]
    }
   ],
   "source": [
    "truthful10, deviation10 = generate_ranks(10)"
   ]
  },
  {
   "cell_type": "code",
   "execution_count": 14,
   "id": "bf614143",
   "metadata": {},
   "outputs": [
    {
     "data": {
      "text/plain": [
       "[[10, 6, 9, 7, 3, 2, 4, 1, 8, 5],\n",
       " [10, 9, 4, 2, 6, 5, 3, 1, 7, 8],\n",
       " [4, 3, 9, 5, 6, 10, 2, 1, 8, 7],\n",
       " [10, 2, 5, 3, 9, 4, 1, 7, 6, 8],\n",
       " [10, 4, 6, 2, 5, 7, 9, 1, 3, 8],\n",
       " [9, 2, 5, 7, 10, 4, 1, 3, 6, 8],\n",
       " [5, 10, 4, 1, 6, 7, 9, 2, 8, 3],\n",
       " [10, 6, 5, 2, 7, 1, 3, 4, 9, 8],\n",
       " [6, 4, 5, 7, 9, 2, 3, 10, 1, 8],\n",
       " [9, 6, 2, 5, 10, 4, 3, 1, 7, 8]]"
      ]
     },
     "execution_count": 14,
     "metadata": {},
     "output_type": "execute_result"
    }
   ],
   "source": [
    "truthful10[:10]"
   ]
  },
  {
   "cell_type": "code",
   "execution_count": 15,
   "id": "1b741755",
   "metadata": {},
   "outputs": [
    {
     "data": {
      "text/plain": [
       "[[10, 6, 9, 7, 3, 2, 4, 1, 8, 5],\n",
       " [1, 2, 3, 4, 5, 6, 9, 10, 7, 8],\n",
       " [1, 3, 4, 2, 5, 6, 9, 10, 8, 7],\n",
       " [1, 2, 3, 5, 4, 10, 9, 7, 6, 8],\n",
       " [10, 4, 6, 2, 5, 7, 9, 1, 3, 8],\n",
       " [9, 2, 5, 7, 10, 4, 1, 3, 6, 8],\n",
       " [5, 10, 4, 1, 6, 7, 9, 2, 8, 3],\n",
       " [10, 6, 5, 2, 7, 1, 3, 4, 9, 8],\n",
       " [6, 4, 5, 7, 9, 2, 3, 10, 1, 8],\n",
       " [1, 2, 3, 5, 6, 4, 9, 10, 7, 8]]"
      ]
     },
     "execution_count": 15,
     "metadata": {},
     "output_type": "execute_result"
    }
   ],
   "source": [
    "deviation10[:10]"
   ]
  },
  {
   "cell_type": "code",
   "execution_count": 16,
   "id": "59d965e0",
   "metadata": {},
   "outputs": [],
   "source": [
    "vote_count = 10000"
   ]
  },
  {
   "cell_type": "code",
   "execution_count": 17,
   "id": "77b29e2d",
   "metadata": {},
   "outputs": [],
   "source": [
    "true_choice_3B = Borda(candidate3, vote_count, truthful3, \"soi\").determine_winner()\n",
    "deviation_choice_3B = Borda(candidate3, vote_count, deviation3, \"soi\").determine_winner()\n",
    "true_choice_5B = Borda(candidate5, vote_count, truthful5, \"soi\").determine_winner()\n",
    "deviation_choice_5B = Borda(candidate5, vote_count, deviation5, \"soi\").determine_winner()\n",
    "true_choice_10B = Borda(candidate10, vote_count, truthful10, \"soi\").determine_winner()\n",
    "deviation_choice_10B = Borda(candidate10, vote_count, deviation10, \"soi\").determine_winner()"
   ]
  },
  {
   "cell_type": "code",
   "execution_count": 18,
   "id": "1f3e0b90",
   "metadata": {},
   "outputs": [],
   "source": [
    "true_choice_3P = Plurality(candidate3, vote_count, truthful3, \"soi\").determine_winner()\n",
    "deviation_choice_3P = Plurality(candidate3, vote_count, deviation3, \"soi\").determine_winner()\n",
    "true_choice_5P = Plurality(candidate5, vote_count, truthful5, \"soi\").determine_winner()\n",
    "deviation_choice_5P = Plurality(candidate5, vote_count, deviation5, \"soi\").determine_winner()\n",
    "true_choice_10P = Plurality(candidate10, vote_count, truthful10, \"soi\").determine_winner()\n",
    "deviation_choice_10P = Plurality(candidate10, vote_count, deviation10, \"soi\").determine_winner()"
   ]
  },
  {
   "cell_type": "code",
   "execution_count": 19,
   "id": "1aa56c88",
   "metadata": {},
   "outputs": [],
   "source": [
    "true_choice_3R = RankedChoice(candidate3, vote_count, truthful3, \"soi\").determine_winner()\n",
    "deviation_choice_3R = RankedChoice(candidate3, vote_count, deviation3, \"soi\").determine_winner()\n",
    "true_choice_5R = RankedChoice(candidate5, vote_count, truthful5, \"soi\").determine_winner()\n",
    "deviation_choice_5R = RankedChoice(candidate5, vote_count, deviation5, \"soi\").determine_winner()\n",
    "true_choice_10R = RankedChoice(candidate10, vote_count, truthful10, \"soi\").determine_winner()\n",
    "deviation_choice_10R = RankedChoice(candidate10, vote_count, deviation10, \"soi\").determine_winner()"
   ]
  },
  {
   "cell_type": "code",
   "execution_count": 20,
   "id": "4c50542c",
   "metadata": {},
   "outputs": [],
   "source": [
    "true_choice_3T = TwoRound(candidate3, vote_count, truthful3, \"soi\").determine_winner()\n",
    "deviation_choice_3T = TwoRound(candidate3, vote_count, deviation3, \"soi\").determine_winner()\n",
    "true_choice_5T = TwoRound(candidate5, vote_count, truthful5, \"soi\").determine_winner()\n",
    "deviation_choice_5T = TwoRound(candidate5, vote_count, deviation5, \"soi\").determine_winner()\n",
    "true_choice_10T = TwoRound(candidate10, vote_count, truthful10, \"soi\").determine_winner()\n",
    "deviation_choice_10T = TwoRound(candidate10, vote_count, deviation10, \"soi\").determine_winner()"
   ]
  },
  {
   "cell_type": "code",
   "execution_count": 21,
   "id": "7bb930a5",
   "metadata": {},
   "outputs": [
    {
     "data": {
      "text/plain": [
       "('Patrick Star',\n",
       " 'SpongeBob SquarePants',\n",
       " 'Patrick Star',\n",
       " 'SpongeBob SquarePants',\n",
       " 'Mrs. Puff',\n",
       " 'SpongeBob SquarePants')"
      ]
     },
     "execution_count": 21,
     "metadata": {},
     "output_type": "execute_result"
    }
   ],
   "source": [
    "true_choice_3B, deviation_choice_3B, true_choice_5B, deviation_choice_5B, true_choice_10B, deviation_choice_10B,"
   ]
  },
  {
   "cell_type": "code",
   "execution_count": 22,
   "id": "dd0fe68d",
   "metadata": {},
   "outputs": [
    {
     "name": "stdout",
     "output_type": "stream",
     "text": [
      "SpongeBob SquarePants\n",
      "[1.7836, 0.0768, 0.2932]\n",
      "Patrick Star\n",
      "[1.3381, 0.0397, 0.7016]\n",
      "Squidward Tentacles\n",
      "[2.8783, 0.8835, 0.0052]\n"
     ]
    }
   ],
   "source": [
    "for i in range(1,4):\n",
    "    print(candidate3[i])\n",
    "    print(calculate_stats(i, truthful3))"
   ]
  },
  {
   "cell_type": "code",
   "execution_count": 23,
   "id": "c71bec4c",
   "metadata": {},
   "outputs": [
    {
     "name": "stdout",
     "output_type": "stream",
     "text": [
      "SpongeBob SquarePants\n",
      "[2.2425, 0.0761, 0.3634]\n",
      "Patrick Star\n",
      "[2.0571, 0.0725, 0.4749]\n",
      "Squidward Tentacles\n",
      "[2.9014, 0.1215, 0.1207]\n",
      "Mr. Krabs\n",
      "[3.3767, 0.166, 0.0399]\n",
      "Plankton\n",
      "[4.4223, 0.5639, 0.0011]\n"
     ]
    }
   ],
   "source": [
    "for i in range(1,6):\n",
    "    print(candidate5[i])\n",
    "    print(calculate_stats(i, truthful5))"
   ]
  },
  {
   "cell_type": "code",
   "execution_count": 24,
   "id": "29eb3b40",
   "metadata": {},
   "outputs": [
    {
     "name": "stdout",
     "output_type": "stream",
     "text": [
      "SpongeBob SquarePants\n",
      "[6.5036, 0.0542, 0.002]\n",
      "Patrick Star\n",
      "[4.2764, 0.0268, 0.1766]\n",
      "Squidward Tentacles\n",
      "[6.8634, 0.0668, 0.0013]\n",
      "Mr. Krabs\n",
      "[5.3712, 0.0396, 0.0286]\n",
      "Plankton\n",
      "[4.5896, 0.0297, 0.1124]\n",
      "Sandy Cheeks\n",
      "[4.5231, 0.0311, 0.129]\n",
      "Gary\n",
      "[5.3371, 0.039, 0.0339]\n",
      "Larry the Lobster\n",
      "[9.5707, 0.662, 0.0]\n",
      "Pearl\n",
      "[4.2701, 0.0267, 0.1798]\n",
      "Mrs. Puff\n",
      "[3.6948, 0.0241, 0.3364]\n"
     ]
    }
   ],
   "source": [
    "for i in range(1,11):\n",
    "    print(candidate10[i])\n",
    "    print(calculate_stats(i, truthful10))"
   ]
  }
 ],
 "metadata": {
  "kernelspec": {
   "display_name": "Python 3 (ipykernel)",
   "language": "python",
   "name": "python3"
  },
  "language_info": {
   "codemirror_mode": {
    "name": "ipython",
    "version": 3
   },
   "file_extension": ".py",
   "mimetype": "text/x-python",
   "name": "python",
   "nbconvert_exporter": "python",
   "pygments_lexer": "ipython3",
   "version": "3.9.5"
  }
 },
 "nbformat": 4,
 "nbformat_minor": 5
}
