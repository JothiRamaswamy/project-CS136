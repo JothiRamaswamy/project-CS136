{
 "cells": [
  {
   "cell_type": "code",
   "execution_count": 258,
   "id": "e3dc8a90",
   "metadata": {},
   "outputs": [],
   "source": [
    "import pandas as pd\n",
    "import numpy as np\n",
    "import os\n",
    "import random"
   ]
  },
  {
   "cell_type": "code",
   "execution_count": 204,
   "id": "54dec829",
   "metadata": {},
   "outputs": [],
   "source": [
    "os.chdir(\"/Users/jothiramaswamy/Downloads/irish\")"
   ]
  },
  {
   "cell_type": "code",
   "execution_count": 328,
   "id": "7b022690",
   "metadata": {},
   "outputs": [],
   "source": [
    "with open('ED-00001-00000001-soi.txt') as f:\n",
    "    lines = [line.strip().split(\",\") for line in f.readlines()]"
   ]
  },
  {
   "cell_type": "code",
   "execution_count": 329,
   "id": "1e9e5f29",
   "metadata": {},
   "outputs": [],
   "source": [
    "candidate_count = int(lines.pop(0)[0])"
   ]
  },
  {
   "cell_type": "code",
   "execution_count": 330,
   "id": "02320170",
   "metadata": {},
   "outputs": [
    {
     "data": {
      "text/plain": [
       "12"
      ]
     },
     "execution_count": 330,
     "metadata": {},
     "output_type": "execute_result"
    }
   ],
   "source": [
    "candidate_count"
   ]
  },
  {
   "cell_type": "code",
   "execution_count": 331,
   "id": "82fa863d",
   "metadata": {},
   "outputs": [],
   "source": [
    "candidates = {}\n",
    "for i in range(candidate_count):\n",
    "    candidate = lines.pop(0)\n",
    "    candidates[int(candidate[0])] = candidate[1]"
   ]
  },
  {
   "cell_type": "code",
   "execution_count": 332,
   "id": "e47689ae",
   "metadata": {},
   "outputs": [
    {
     "data": {
      "text/plain": [
       "{1: 'Cathal Boland F.G.',\n",
       " 2: 'Clare Daly S.P.',\n",
       " 3: 'Mick Davis S.F.',\n",
       " 4: 'Jim Glennon F.F.',\n",
       " 5: 'Ciaran Goulding Non-P',\n",
       " 6: 'Michael Kennedy F.F.',\n",
       " 7: 'Nora Owen F.G.',\n",
       " 8: 'Eamonn Quinn Non-P',\n",
       " 9: 'Sean Ryan Lab',\n",
       " 10: 'Trevor Sargent G.P.',\n",
       " 11: 'David Henry Walshe C.C. Csp',\n",
       " 12: 'G.V. Wright F.F.'}"
      ]
     },
     "execution_count": 332,
     "metadata": {},
     "output_type": "execute_result"
    }
   ],
   "source": [
    "candidates"
   ]
  },
  {
   "cell_type": "code",
   "execution_count": 333,
   "id": "1c523766",
   "metadata": {},
   "outputs": [
    {
     "data": {
      "text/plain": [
       "43942"
      ]
     },
     "execution_count": 333,
     "metadata": {},
     "output_type": "execute_result"
    }
   ],
   "source": [
    "vote_count = int(lines.pop(0)[0])\n",
    "vote_count"
   ]
  },
  {
   "cell_type": "code",
   "execution_count": 335,
   "id": "8bf56a6d",
   "metadata": {},
   "outputs": [],
   "source": [
    "preferences = []\n",
    "for line in lines:\n",
    "    indif = []\n",
    "    indifferent = False\n",
    "    pref = []\n",
    "    for l in line:\n",
    "        if l[0] == '{':\n",
    "            indif.append(int(l[1:]))\n",
    "            indifferent = True\n",
    "        elif l[-1] == '}':\n",
    "            indif.append(int(l[:-1]))\n",
    "            indifferent = False\n",
    "            random.shuffle(indif)\n",
    "            pref += indif\n",
    "            indif = []\n",
    "        elif indifferent:\n",
    "            indif.append(int(l))\n",
    "        else:\n",
    "            pref.append(int(l))\n",
    "    preferences.append(pref)"
   ]
  },
  {
   "cell_type": "code",
   "execution_count": 336,
   "id": "fa8b95f7",
   "metadata": {},
   "outputs": [],
   "source": [
    "class RankedChoice:\n",
    "\n",
    "    def __init__(self, candidates, vote_count, preferences, pref_type):\n",
    "        self.candidates = candidates\n",
    "        self.vote_count = vote_count\n",
    "        self.preferences = preferences\n",
    "        self.pref_type = pref_type\n",
    "\n",
    "    def determine_winner(self):\n",
    "        vote_tally = [0] * len(self.candidates)\n",
    "        candidates_left = list(self.candidates.keys())\n",
    "        preferences = self.preferences.copy()\n",
    "        while True:\n",
    "            for p in range(len(preferences)):\n",
    "                if len(preferences[p]) == 1:\n",
    "                    continue\n",
    "                try:\n",
    "                    while preferences[p][1] not in candidates_left:\n",
    "                        preferences[p].pop(1)\n",
    "                        if len(preferences[p]) == 1:\n",
    "                            continue\n",
    "                except:\n",
    "                    continue\n",
    "                idx = candidates_left.index(preferences[p][1])\n",
    "                vote_tally[idx]+=preferences[p][0]\n",
    "                \n",
    "            if max(vote_tally) == min(vote_tally):\n",
    "                return \"Tie\"\n",
    "            elif max(vote_tally) > sum(vote_tally)/2:\n",
    "                idx = vote_tally.index(max(vote_tally))\n",
    "                winner_idx = candidates_left[idx]\n",
    "                return self.candidates[winner_idx]\n",
    "            else:\n",
    "                idx = vote_tally.index(min(vote_tally))\n",
    "                candidates_left.pop(idx)\n",
    "                vote_tally = [0] * len(candidates_left)\n"
   ]
  },
  {
   "cell_type": "code",
   "execution_count": 337,
   "id": "51acee17",
   "metadata": {},
   "outputs": [],
   "source": [
    "class Plurality:\n",
    "\n",
    "    def __init__(self, candidates, vote_count, preferences, pref_type):\n",
    "        self.candidates = candidates\n",
    "        self.vote_count = vote_count\n",
    "        self.preferences = preferences\n",
    "        self.pref_type = pref_type\n",
    "\n",
    "    def determine_winner(self):\n",
    "        vote_tally = [0] * len(self.candidates)\n",
    "        preferences = self.preferences.copy()\n",
    "        for p in range(len(preferences)):\n",
    "            try:\n",
    "                vote_tally[preferences[p][1]] += preferences[p][0]\n",
    "            except:\n",
    "                continue\n",
    "\n",
    "        idx = vote_tally.index(max(vote_tally))\n",
    "        return self.candidates[idx]"
   ]
  },
  {
   "cell_type": "code",
   "execution_count": 338,
   "id": "69a1f5b8",
   "metadata": {},
   "outputs": [],
   "source": [
    "class Borda:\n",
    "\n",
    "    def __init__(self, candidates, vote_count, preferences, pref_type):\n",
    "        self.candidates = candidates\n",
    "        self.vote_count = vote_count\n",
    "        self.preferences = preferences\n",
    "        self.pref_type = pref_type\n",
    "\n",
    "    def determine_winner(self):\n",
    "        vote_tally = [0] * len(self.candidates)\n",
    "        preferences = self.preferences.copy()\n",
    "        for p in range(len(preferences)):\n",
    "            for i in range(1, len(preferences[p])):\n",
    "                try:\n",
    "                    vote_tally[preferences[p][i]-1] += float(preferences[p][0])*(1/i)\n",
    "                except:\n",
    "                    print(preferences[p][i], len(vote_tally))\n",
    "\n",
    "        idx = vote_tally.index(max(vote_tally))\n",
    "        return self.candidates[idx+1]"
   ]
  },
  {
   "cell_type": "code",
   "execution_count": 339,
   "id": "ad086399",
   "metadata": {},
   "outputs": [],
   "source": [
    "choice = RankedChoice(candidates, vote_count, preferences, \"soi\")"
   ]
  },
  {
   "cell_type": "code",
   "execution_count": 340,
   "id": "e99acbb5",
   "metadata": {},
   "outputs": [
    {
     "data": {
      "text/plain": [
       "'Trevor Sargent G.P.'"
      ]
     },
     "execution_count": 340,
     "metadata": {},
     "output_type": "execute_result"
    }
   ],
   "source": [
    "choice.determine_winner()"
   ]
  },
  {
   "cell_type": "code",
   "execution_count": 341,
   "id": "2a28a050",
   "metadata": {},
   "outputs": [],
   "source": [
    "choice = Plurality(candidates, vote_count, preferences, \"soi\")"
   ]
  },
  {
   "cell_type": "code",
   "execution_count": 342,
   "id": "571c4981",
   "metadata": {},
   "outputs": [
    {
     "data": {
      "text/plain": [
       "'Trevor Sargent G.P.'"
      ]
     },
     "execution_count": 342,
     "metadata": {},
     "output_type": "execute_result"
    }
   ],
   "source": [
    "choice.determine_winner()"
   ]
  },
  {
   "cell_type": "code",
   "execution_count": 343,
   "id": "e23188e9",
   "metadata": {},
   "outputs": [],
   "source": [
    "choice = Borda(candidates, vote_count, preferences, \"soi\")"
   ]
  },
  {
   "cell_type": "code",
   "execution_count": 344,
   "id": "01211a72",
   "metadata": {},
   "outputs": [
    {
     "data": {
      "text/plain": [
       "'Trevor Sargent G.P.'"
      ]
     },
     "execution_count": 344,
     "metadata": {},
     "output_type": "execute_result"
    }
   ],
   "source": [
    "choice.determine_winner()"
   ]
  },
  {
   "cell_type": "code",
   "execution_count": null,
   "id": "3aea64fd",
   "metadata": {},
   "outputs": [],
   "source": []
  }
 ],
 "metadata": {
  "kernelspec": {
   "display_name": "Python 3 (ipykernel)",
   "language": "python",
   "name": "python3"
  },
  "language_info": {
   "codemirror_mode": {
    "name": "ipython",
    "version": 3
   },
   "file_extension": ".py",
   "mimetype": "text/x-python",
   "name": "python",
   "nbconvert_exporter": "python",
   "pygments_lexer": "ipython3",
   "version": "3.9.5"
  }
 },
 "nbformat": 4,
 "nbformat_minor": 5
}
